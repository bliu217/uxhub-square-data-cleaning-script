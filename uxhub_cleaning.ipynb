{
  "nbformat": 4,
  "nbformat_minor": 0,
  "metadata": {
    "colab": {
      "provenance": [],
      "authorship_tag": "ABX9TyPkJ+Lgjo7FbfyR2NIfWKVJ"
    },
    "kernelspec": {
      "name": "python3",
      "display_name": "Python 3"
    },
    "language_info": {
      "name": "python"
    }
  },
  "cells": [
    {
      "cell_type": "code",
      "execution_count": null,
      "metadata": {
        "collapsed": true,
        "id": "1OCNr--r9ReW"
      },
      "outputs": [],
      "source": [
        "import numpy as np\n",
        "import pandas as pd\n",
        "\n",
        "df = pd.read_csv('data/orders.csv')\n",
        "sel = df[[\"Recipient Name\", \"Recipient Email\", \"Fulfillment Notes\", \"Recipient Phone\", \"Order Date\", \"Item Name\"]].copy()\n",
        "sel[\"student_number\"] = sel[\"Fulfillment Notes\"].str.extract(r\"Student Number:\\s*(\\d+)\")\n",
        "sel[\"membership_type\"] = sel[\"Item Name\"].str.extract(r\"\\[([^\\s\\]]+)\")\n",
        "\n",
        "\n",
        "sel.columns = sel.columns.str.lower().str.replace(\" \", \"_\")\n",
        "\n",
        "sel = sel.rename(columns={\n",
        "    \"recipient_name\": \"name\",\n",
        "    \"recipient_email\": \"email\",\n",
        "    \"fulfillment_notes\": \"notes\",\n",
        "    \"recipient_phone\": \"phone\"\n",
        "})\n",
        "\n",
        "sel[\"phone\"] = sel[\"phone\"].str.replace(r\"^\\+1\\s*\", \"\", regex=True).str.replace(\"-\",\"\")\n",
        "sel[\"phone\"] = sel[\"phone\"].str[:3] + \"-\" + sel[\"phone\"].str[3:6] + \"-\" + sel[\"phone\"].str[6:]\n",
        "sel[\"newsletter\"] = sel[\"notes\"].str.extract(r\"Email for Newsletter \\(n/a if no\\):\\s*(\\S+)\").replace(\"n/a\", np.nan)\n",
        "\n",
        "sel.drop([\"notes\", \"item_name\"], axis=1, inplace=True)\n",
        "sel = sel[sel[\"name\"].str.strip().astype(bool)]\n",
        "\n",
        "# random purchase idk what it is\n",
        "sel.drop(index=63, inplace=True)\n",
        "\n",
        "sel.to_csv(\"output/clean_member_data.csv\", index=False)"
      ]
    }
  ]
}